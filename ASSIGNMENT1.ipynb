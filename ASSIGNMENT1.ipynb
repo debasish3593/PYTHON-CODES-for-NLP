{
 "cells": [
  {
   "cell_type": "code",
   "execution_count": null,
   "id": "9c63ee6d",
   "metadata": {},
   "outputs": [],
   "source": [
    "#Exercise 1.1"
   ]
  },
  {
   "cell_type": "code",
   "execution_count": 1,
   "id": "465ade76",
   "metadata": {},
   "outputs": [
    {
     "ename": "SyntaxError",
     "evalue": "incomplete input (2904509671.py, line 6)",
     "output_type": "error",
     "traceback": [
      "\u001b[1;36m  Cell \u001b[1;32mIn[1], line 6\u001b[1;36m\u001b[0m\n\u001b[1;33m    print(\"Hello Guys!\"\u001b[0m\n\u001b[1;37m                       ^\u001b[0m\n\u001b[1;31mSyntaxError\u001b[0m\u001b[1;31m:\u001b[0m incomplete input\n"
     ]
    }
   ],
   "source": [
    "#1. In a print statement, what happens if you leave out one of the parentheses, or both?\n",
    "#Answer:-If we leave out one or both parentheses in a print statement, Python will raise a syntax error. This is \n",
    "#because parentheses are used to enclose the expression or value to be printed, and they are required for the \n",
    "#syntax of the print statement to be correct.\n",
    "\n",
    "print(\"HELLO GUYS!\")\n",
    "\n",
    "print(\"Hello Guys!\""
   ]
  },
  {
   "cell_type": "code",
   "execution_count": 3,
   "id": "9d263565",
   "metadata": {},
   "outputs": [
    {
     "ename": "SyntaxError",
     "evalue": "unterminated string literal (detected at line 6) (3288130918.py, line 6)",
     "output_type": "error",
     "traceback": [
      "\u001b[1;36m  Cell \u001b[1;32mIn[3], line 6\u001b[1;36m\u001b[0m\n\u001b[1;33m    print(\"Dibrugarh University)\u001b[0m\n\u001b[1;37m          ^\u001b[0m\n\u001b[1;31mSyntaxError\u001b[0m\u001b[1;31m:\u001b[0m unterminated string literal (detected at line 6)\n"
     ]
    }
   ],
   "source": [
    "#2. If you are trying to print a string, what happens if you leave out one of the quotation marks,or both?\n",
    "#Answer:-If we leave out one or both quotation marks when trying to print a string, Python will raise a \n",
    "#syntax error. Quotation marks are used to denote the beginning and end of a string literal in Python, \n",
    "#so they are required for the syntax of the print statement to be correct.\n",
    "\n",
    "print(Dibrugarh University)"
   ]
  },
  {
   "cell_type": "code",
   "execution_count": 7,
   "id": "f30e3030",
   "metadata": {},
   "outputs": [
    {
     "name": "stdout",
     "output_type": "stream",
     "text": [
      "4\n",
      "6\n"
     ]
    }
   ],
   "source": [
    "#3. You can use a minus sign to make a negative number like -2. What happens if you put a plus\n",
    "#sign before a number? What about 2++2?\n",
    "#Answer:-\n",
    "a=2\n",
    "b=+2\n",
    "print(a+b)\n",
    "\n",
    "sum=2++4\n",
    "print(sum)"
   ]
  },
  {
   "cell_type": "code",
   "execution_count": 8,
   "id": "88ad181a",
   "metadata": {},
   "outputs": [
    {
     "ename": "SyntaxError",
     "evalue": "leading zeros in decimal integer literals are not permitted; use an 0o prefix for octal integers (1450099448.py, line 4)",
     "output_type": "error",
     "traceback": [
      "\u001b[1;36m  Cell \u001b[1;32mIn[8], line 4\u001b[1;36m\u001b[0m\n\u001b[1;33m    a=011\u001b[0m\n\u001b[1;37m      ^\u001b[0m\n\u001b[1;31mSyntaxError\u001b[0m\u001b[1;31m:\u001b[0m leading zeros in decimal integer literals are not permitted; use an 0o prefix for octal integers\n"
     ]
    }
   ],
   "source": [
    "#4. In math notation, leading zeros are ok, as in 09. What happens if you try this in Python?\n",
    "#What about 011?\n",
    "#Answer:-It gives a syntax error as leading zeros in decimal integer literals are not permitted\n",
    "a=011\n",
    "print(a)"
   ]
  },
  {
   "cell_type": "code",
   "execution_count": 11,
   "id": "c10862d5",
   "metadata": {},
   "outputs": [
    {
     "ename": "NameError",
     "evalue": "name 'ab' is not defined",
     "output_type": "error",
     "traceback": [
      "\u001b[1;31m---------------------------------------------------------------------------\u001b[0m",
      "\u001b[1;31mNameError\u001b[0m                                 Traceback (most recent call last)",
      "Cell \u001b[1;32mIn[11], line 5\u001b[0m\n\u001b[0;32m      3\u001b[0m a\u001b[38;5;241m=\u001b[39m\u001b[38;5;241m3\u001b[39m\n\u001b[0;32m      4\u001b[0m b\u001b[38;5;241m=\u001b[39m\u001b[38;5;241m5\u001b[39m\n\u001b[1;32m----> 5\u001b[0m s\u001b[38;5;241m=\u001b[39mab\n\u001b[0;32m      6\u001b[0m \u001b[38;5;28mprint\u001b[39m(s)\n",
      "\u001b[1;31mNameError\u001b[0m: name 'ab' is not defined"
     ]
    }
   ],
   "source": [
    "#5. What happens if you have two values with no operator between them?\n",
    "#Answer:- It will through a syntax error\n",
    "a=3\n",
    "b=5\n",
    "s=ab\n",
    "print(s)"
   ]
  },
  {
   "cell_type": "code",
   "execution_count": null,
   "id": "aa1a8a1d",
   "metadata": {},
   "outputs": [],
   "source": [
    "#Exercise 1.2. Start the Python interpreter and use it as a calculator."
   ]
  },
  {
   "cell_type": "code",
   "execution_count": 13,
   "id": "c875e83f",
   "metadata": {},
   "outputs": [
    {
     "name": "stdout",
     "output_type": "stream",
     "text": [
      "Total Second:- 2562\n"
     ]
    }
   ],
   "source": [
    "#1. How many seconds are there in 42 minutes 42 seconds?\n",
    "#Answer:-\n",
    "m=42\n",
    "s=(42*60)+42\n",
    "print(\"Total Second:-\",s)"
   ]
  },
  {
   "cell_type": "code",
   "execution_count": 16,
   "id": "b5b1c231",
   "metadata": {},
   "outputs": [
    {
     "name": "stdout",
     "output_type": "stream",
     "text": [
      "Total Miles: 6.211180124223602\n"
     ]
    }
   ],
   "source": [
    "#2. How many miles are there in 10 kilometers? Hint: there are 1.61 kilometers in a mile.\n",
    "#Answer:-\n",
    "kilometers=10\n",
    "miles=(kilometers / 1.61)\n",
    "print(\"Total Miles:\",miles)"
   ]
  },
  {
   "cell_type": "code",
   "execution_count": 17,
   "id": "55080e4d",
   "metadata": {},
   "outputs": [
    {
     "name": "stdout",
     "output_type": "stream",
     "text": [
      "Average pace: 6 minutes 52 seconds per mile\n",
      "Average speed: 8.73 miles per hour\n"
     ]
    }
   ],
   "source": [
    "#3. If you run a 10 kilometer race in 42 minutes 42 seconds, what is your average pace (time per\n",
    "#mile in minutes and seconds)? What is your average speed in miles per hour?\n",
    "#Answer:-\n",
    "total_seconds = (42 * 60) + 42\n",
    "total_hours = total_seconds / 3600\n",
    "miles = 10 / 1.61\n",
    "\n",
    "average_pace_minutes = total_seconds / 60 / miles\n",
    "average_pace_seconds = (average_pace_minutes - int(average_pace_minutes)) * 60\n",
    "average_pace_minutes = int(average_pace_minutes)\n",
    "\n",
    "average_speed_mph = miles / total_hours\n",
    "\n",
    "print(\"Average pace:\", average_pace_minutes, \"minutes\", round(average_pace_seconds), \"seconds per mile\")\n",
    "print(\"Average speed:\", round(average_speed_mph, 2), \"miles per hour\")"
   ]
  },
  {
   "cell_type": "code",
   "execution_count": null,
   "id": "37e31bcc",
   "metadata": {},
   "outputs": [],
   "source": []
  }
 ],
 "metadata": {
  "kernelspec": {
   "display_name": "Python 3 (ipykernel)",
   "language": "python",
   "name": "python3"
  },
  "language_info": {
   "codemirror_mode": {
    "name": "ipython",
    "version": 3
   },
   "file_extension": ".py",
   "mimetype": "text/x-python",
   "name": "python",
   "nbconvert_exporter": "python",
   "pygments_lexer": "ipython3",
   "version": "3.11.4"
  }
 },
 "nbformat": 4,
 "nbformat_minor": 5
}
